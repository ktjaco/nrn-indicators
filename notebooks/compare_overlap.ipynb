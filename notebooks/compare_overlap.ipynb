{
 "cells": [
  {
   "cell_type": "code",
   "execution_count": 1,
   "metadata": {},
   "outputs": [],
   "source": [
    "# Import the required Python packages\n",
    "import geopandas as gpd"
   ]
  },
  {
   "cell_type": "code",
   "execution_count": 4,
   "metadata": {},
   "outputs": [],
   "source": [
    "# Read the road network to be evaluated (Parks Canada - Prince Edward Island)\n",
    "tested_gdf = gpd.read_file(\"../data/raw/Parks_Canada.gpkg\", layer=\"PE\", driver=\"GPKG\")\n",
    "\n",
    "# Read the NRN for Prince Edward Island\n",
    "nrn_gdf = gpd.read_file(\"../data/raw/NRN_PE_18_0.gpkg\", layer=\"NRN_PE_18_0_ROADSEG\", driver=\"GPKG\")"
   ]
  },
  {
   "cell_type": "code",
   "execution_count": 5,
   "metadata": {},
   "outputs": [],
   "source": [
    "# Convert both road networks to EPSG:3348\n",
    "tested_gdf = tested_gdf.to_crs(\"EPSG:3348\")\n",
    "nrn_gdf = nrn_gdf.to_crs(\"EPSG:3348\")"
   ]
  },
  {
   "cell_type": "code",
   "execution_count": 8,
   "metadata": {},
   "outputs": [],
   "source": [
    "# Perform a 10 metre buffer on the NRN.\n",
    "width = 10\n",
    "nrn_buffer = nrn_gdf.buffer(width)"
   ]
  },
  {
   "cell_type": "code",
   "execution_count": 9,
   "metadata": {},
   "outputs": [],
   "source": [
    "# Convert the NRN buffer to a GeoDataFrame.\n",
    "nrn_buffer_gdf = gpd.GeoDataFrame(geometry=gpd.GeoSeries(nrn_buffer))"
   ]
  },
  {
   "cell_type": "code",
   "execution_count": 11,
   "metadata": {},
   "outputs": [],
   "source": [
    "# Clip the Parks Canada dataset, using the NRN buffer as a mask.\n",
    "clip = gpd.overlay(tested_gdf, nrn_buffer_gdf, how=\"intersection\")"
   ]
  },
  {
   "cell_type": "code",
   "execution_count": 21,
   "metadata": {},
   "outputs": [],
   "source": [
    "# Sum each of the lengths for the clipped and total Parks Canada datasets.\n",
    "clip_len = clip.length.sum()\n",
    "tested_gdf_len = tested_gdf.length.sum()"
   ]
  },
  {
   "cell_type": "code",
   "execution_count": 22,
   "metadata": {},
   "outputs": [],
   "source": [
    "# Calculate the overlap percentage.\n",
    "percentage = (clip_len / tested_gdf_len) * 100\n",
    "percentage = round(percentage, 2)"
   ]
  },
  {
   "cell_type": "code",
   "execution_count": 23,
   "metadata": {},
   "outputs": [
    {
     "name": "stdout",
     "output_type": "stream",
     "text": [
      "73.87% of the tested road network falls within 10 metres of the NRN dataset.\n"
     ]
    }
   ],
   "source": [
    "print(\"{}% of the tested road network falls within {} metres of the NRN dataset.\"\n",
    "                .format(percentage, width))"
   ]
  }
 ],
 "metadata": {
  "kernelspec": {
   "display_name": "Python 3",
   "language": "python",
   "name": "python3"
  },
  "language_info": {
   "codemirror_mode": {
    "name": "ipython",
    "version": 3
   },
   "file_extension": ".py",
   "mimetype": "text/x-python",
   "name": "python",
   "nbconvert_exporter": "python",
   "pygments_lexer": "ipython3",
   "version": "3.8.2"
  }
 },
 "nbformat": 4,
 "nbformat_minor": 4
}
