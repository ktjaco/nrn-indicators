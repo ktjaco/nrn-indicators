{
 "cells": [
  {
   "cell_type": "code",
   "execution_count": 2,
   "metadata": {},
   "outputs": [],
   "source": [
    "# Import the required Python packages\n",
    "import geopandas as gpd"
   ]
  },
  {
   "cell_type": "code",
   "execution_count": null,
   "metadata": {},
   "outputs": [],
   "source": [
    "# Read the road network to be evaluated (Parks Canada - Prince Edward Island)\n",
    "tested_gdf = gpd.read_file(\"../data/raw/Parks_Canada.gpkg\", layer=\"PE\", driver=\"GPKG\")\n",
    "\n",
    "# Read the National Road Network (Prince Edward Island)\n",
    "nrn = gpd.read_file(\"../data/raw/NRN_PE_18_0.gpkg\", layer=\"NRN_PE_18_0_ROADSEG\", driver=\"GPKG\")"
   ]
  },
  {
   "cell_type": "code",
   "execution_count": null,
   "metadata": {},
   "outputs": [],
   "source": []
  }
 ],
 "metadata": {
  "kernelspec": {
   "display_name": "Python 3",
   "language": "python",
   "name": "python3"
  },
  "language_info": {
   "codemirror_mode": {
    "name": "ipython",
    "version": 3
   },
   "file_extension": ".py",
   "mimetype": "text/x-python",
   "name": "python",
   "nbconvert_exporter": "python",
   "pygments_lexer": "ipython3",
   "version": "3.6.9"
  }
 },
 "nbformat": 4,
 "nbformat_minor": 4
}
